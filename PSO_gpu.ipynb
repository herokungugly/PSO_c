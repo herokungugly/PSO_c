{
 "cells": [
  {
   "cell_type": "code",
   "execution_count": 1,
   "metadata": {},
   "outputs": [
    {
     "name": "stdout",
     "output_type": "stream",
     "text": [
      "Overwriting lab/PSO.cpp\n"
     ]
    }
   ],
   "source": [
    "%%writefile lab/PSO.cpp\n",
    "\n",
    "#include <mpi.h>\n",
    "#include <iostream>\n",
    "#include <omp.h>\n",
    "#include <cstdlib>\n",
    "#include <time.h>\n",
    "#include <random>\n",
    "#include <thread>\n",
    "#include <math.h>\n",
    "using namespace std;\n",
    "\n",
    "constexpr int kMaster = 0;\n",
    "const int n_dim = 6;\n",
    "const int n_particles_all = 16000;\n",
    "const float solution_space = 15;\n",
    "const int iters = 5000;\n",
    "const float w = 0.8;\n",
    "const float c1 = 0.8;\n",
    "const float c2 = 0.8;\n",
    "\n",
    "\n",
    "float rand_num(float min = 0.0, float max = 1.0, int seed = 0);\n",
    "static float search_parrallel(float* x, float* v, float* pbest, float* gbest, int k, int num_procs, int rank);\n",
    "\n",
    "\n",
    "float func(float x[])\n",
    "{\n",
    "    float y;\n",
    "    y = pow((x[0] - 2), 2) + pow((x[1] - 5), 2) + pow((x[2] - 8), 2) + pow((x[3] + 3.2425), 2) + pow((x[4] - 2.43), 2) + pow((x[5] - 3), 2);\n",
    "    return y;\n",
    "}\n",
    "\n",
    "\n",
    "int main(int argc, char* argv[]) {\n",
    "    int id, num_procs;\n",
    "    MPI_Status stat;\n",
    "    const clock_t begin_time = clock();\n",
    "    \n",
    "    \n",
    "    // Start MPI.\n",
    "    if (MPI_Init(&argc, &argv) != MPI_SUCCESS) {\n",
    "        cout << \"Failed to initialize MPI\\n\";\n",
    "        exit(-1);\n",
    "    }\n",
    "    // Create the communicator, and retrieve the number of processes.\n",
    "    MPI_Comm_size(MPI_COMM_WORLD, &num_procs);\n",
    "    // Determine the rank of the process.\n",
    "    MPI_Comm_rank(MPI_COMM_WORLD, &id);\n",
    "    const int device = id % 2;\n",
    "    \n",
    "    \n",
    "    //initialization\n",
    "    const int n_particles = n_particles_all / num_procs;\n",
    "    const int N = n_particles * n_dim;\n",
    "    float* x = new float [N];\n",
    "    float* v = new float [N];\n",
    "    for (int i = 0; i < N; i++)\n",
    "    {\n",
    "        x[i] = rand_num(-solution_space, solution_space, id);\n",
    "        v[i] = rand_num();\n",
    "    }\n",
    "    float pbest_f = func(&x[0]), gbest_f = func(&x[0]);\n",
    "    float* pbest = new float[n_dim];\n",
    "    float* gbest = new float[n_dim];\n",
    "\n",
    "    \n",
    "    //start search\n",
    "    //#pragma omp target data device(device) map(to:pbest[0:n_dim], gbest[0:n_dim]) map(tofrom:v[0:N], x[0:N])\n",
    "    for (int k = 1; k <= iters; k++)\n",
    "    {\n",
    "        //particles move and get best of current iteration\n",
    "        gbest_f = search_parrallel(x, v, pbest, gbest, k, num_procs, device);\n",
    "        //initialize 2d array for best f and particle of each thread\n",
    "        float* proc_f = nullptr;\n",
    "        float* proc_x = nullptr;\n",
    "        if (id == kMaster)\n",
    "        {\n",
    "            proc_f = new float[num_procs];\n",
    "            proc_x = new float[num_procs * n_dim];\n",
    "        }\n",
    "        MPI_Gather(&gbest_f, 1, MPI_FLOAT, proc_f, 1, MPI_FLOAT, 0, MPI_COMM_WORLD);\n",
    "        MPI_Gather(gbest, n_dim, MPI_FLOAT, proc_x, n_dim, MPI_FLOAT, 0, MPI_COMM_WORLD);\n",
    "        //get best of current iteration\n",
    "        if (id == kMaster)\n",
    "        {\n",
    "            for (int i = 0; i < num_procs; i++)\n",
    "            {\n",
    "                if (proc_f[i] < gbest_f)\n",
    "                {\n",
    "                    gbest_f = proc_f[i];\n",
    "                    copy(&proc_x[i * n_dim], &proc_x[(i + 1) * n_dim], gbest);\n",
    "                }\n",
    "            }\n",
    "            //get best of all iterations\n",
    "            if (gbest_f < pbest_f)\n",
    "            {\n",
    "                pbest_f = gbest_f;\n",
    "                copy(gbest, gbest + n_dim, pbest);\n",
    "            }\n",
    "            delete[] proc_f;\n",
    "            delete[] proc_x;\n",
    "        }\n",
    "        MPI_Bcast(&gbest_f, 1, MPI_FLOAT, 0, MPI_COMM_WORLD);\n",
    "        MPI_Bcast(gbest, n_dim, MPI_FLOAT, 0, MPI_COMM_WORLD);\n",
    "        MPI_Bcast(&pbest_f, 1, MPI_FLOAT, 0, MPI_COMM_WORLD);\n",
    "        MPI_Bcast(pbest, n_dim, MPI_FLOAT, 0, MPI_COMM_WORLD);\n",
    "    }\n",
    "    \n",
    "    \n",
    "    //print answer\n",
    "    if (id == kMaster)\n",
    "    {\n",
    "        cout << \"solution : [\";\n",
    "        for (int j = 0; j < n_dim; j++)\n",
    "        {\n",
    "            if (j!=0)\n",
    "                cout << \", \";\n",
    "            cout << pbest[j];\n",
    "        }\n",
    "        cout << \"]\" << endl;\n",
    "        cout << pbest_f << endl;\n",
    "        cout << \"Time spent: \" << float( clock () - begin_time ) /  CLOCKS_PER_SEC << \" secs\" << endl;\n",
    "    }\n",
    "\n",
    "    \n",
    "    //free memory\n",
    "    MPI_Finalize();\n",
    "    delete[] x;\n",
    "    delete[] v;\n",
    "    delete[] pbest;\n",
    "    delete[] gbest;\n",
    "\n",
    "    return 0;\n",
    "}\n",
    "\n",
    "float rand_num(float min, float max, int seed)\n",
    "{\n",
    "    static thread_local mt19937 generator(time(0) + seed);\n",
    "    //static thread_local mt19937 generator;\n",
    "    uniform_real_distribution<double> distribution(min, max);\n",
    "    return distribution(generator);\n",
    "}\n",
    "\n",
    "static float search_parrallel(float* x, float* v, float* pbest, float* gbest, int k, int num_procs, int rank)\n",
    "{\n",
    "    static char machine_name[MPI_MAX_PROCESSOR_NAME];\n",
    "    static int name_len;\n",
    "    static int is_cpu=true;\n",
    "    \n",
    "    static int n_particles = n_particles_all / num_procs;\n",
    "    static int N = n_particles * n_dim;\n",
    "    \n",
    "    //particles relocate\n",
    "    float new_gbest_f;\n",
    "    int new_gbest_id;\n",
    "    float r1 = rand_num(), r2 = rand_num();\n",
    "    if (k == 1)\n",
    "    {\n",
    "        copy(&x[new_gbest_id], &x[new_gbest_id + n_dim], gbest);\n",
    "    }\n",
    "    //#pragma omp target update device(rank) to(pbest[0:n_dim], gbest[0:n_dim])\n",
    "    #pragma omp target map(from:is_cpu) map(to:pbest[0:n_dim], gbest[0:n_dim]) map(tofrom:v[0:N], x[0:N])\n",
    "    {\n",
    "        //#pragma target device(rank) omp teams distribute parallel for simd\n",
    "        #pragma omp teams distribute parallel for simd\n",
    "        for (int i = 0; i < N; i++)\n",
    "        {\n",
    "            int j = i % n_dim;\n",
    "            if (i==0) is_cpu = omp_is_initial_device();\n",
    "            if (k == 1)\n",
    "            {\n",
    "                v[i] = w * v[i];\n",
    "            }\n",
    "            else\n",
    "            {\n",
    "                v[i] = w * v[i] + c1 * r1 * (pbest[j] - x[i]) + c2 * r2 * (gbest[j] - x[i]);\n",
    "            }\n",
    "            x[i] += v[i];\n",
    "        }\n",
    "    }\n",
    "    for (int i = 0; i < n_particles; i++)\n",
    "    {\n",
    "        if ((i == 0) || (func(&x[i * n_dim]) < new_gbest_f))\n",
    "        {\n",
    "            new_gbest_f = func(&x[i * n_dim]);\n",
    "            new_gbest_id = i;\n",
    "        }\n",
    "    }\n",
    "    copy(&x[new_gbest_id * n_dim], &x[(new_gbest_id + 1) * n_dim], gbest);\n",
    "    if (k == 1)\n",
    "    {\n",
    "        MPI_Get_processor_name(machine_name, &name_len);\n",
    "        cout << \" runs on: \" << machine_name << \", uses device: \" << (is_cpu?\"CPU\":\"GPU\") << endl;\n",
    "    }\n",
    "    return new_gbest_f;\n",
    "}"
   ]
  },
  {
   "cell_type": "code",
   "execution_count": 2,
   "metadata": {},
   "outputs": [
    {
     "data": {
      "text/plain": [
       "\u001b[0;31m#!/bin/bash\u001b[0m\u001b[0;34m\u001b[0m\n",
       "\u001b[0;34m\u001b[0m\u001b[0msource\u001b[0m \u001b[0;34m/\u001b[0m\u001b[0mopt\u001b[0m\u001b[0;34m/\u001b[0m\u001b[0mintel\u001b[0m\u001b[0;34m/\u001b[0m\u001b[0minteloneapi\u001b[0m\u001b[0;34m/\u001b[0m\u001b[0msetvars\u001b[0m\u001b[0;34m.\u001b[0m\u001b[0msh\u001b[0m \u001b[0;34m>\u001b[0m \u001b[0;34m/\u001b[0m\u001b[0mdev\u001b[0m\u001b[0;34m/\u001b[0m\u001b[0mnull\u001b[0m \u001b[0;36m2\u001b[0m\u001b[0;34m>\u001b[0m\u001b[0;34m&\u001b[0m\u001b[0;36m1\u001b[0m\u001b[0;34m\u001b[0m\n",
       "\u001b[0;34m\u001b[0m\u001b[0;34m/\u001b[0m\u001b[0mbin\u001b[0m\u001b[0;34m/\u001b[0m\u001b[0mecho\u001b[0m \u001b[0;34m\"##\"\u001b[0m\u001b[0;31m \u001b[0m\u001b[0;31m$\u001b[0m\u001b[0;34m(\u001b[0m\u001b[0mwhoami\u001b[0m\u001b[0;34m)\u001b[0m \u001b[0;32mis\u001b[0m \u001b[0mcompiling\u001b[0m\u001b[0;34m\u001b[0m\n",
       "\u001b[0;34m\u001b[0m\u001b[0mmpiicpc\u001b[0m \u001b[0;34m-\u001b[0m\u001b[0mcxx\u001b[0m\u001b[0;34m=\u001b[0m\u001b[0micpx\u001b[0m \u001b[0mlab\u001b[0m\u001b[0;34m/\u001b[0m\u001b[0mPSO\u001b[0m\u001b[0;34m.\u001b[0m\u001b[0mcpp\u001b[0m \u001b[0;34m-\u001b[0m\u001b[0mfiopenmp\u001b[0m \u001b[0;34m-\u001b[0m\u001b[0mfopenmp\u001b[0m\u001b[0;34m-\u001b[0m\u001b[0mtargets\u001b[0m\u001b[0;34m=\u001b[0m\u001b[0mspir64\u001b[0m \u001b[0;34m-\u001b[0m\u001b[0mo\u001b[0m \u001b[0mbin\u001b[0m\u001b[0;34m/\u001b[0m\u001b[0mPSO\u001b[0m\u001b[0;34m.\u001b[0m\u001b[0mx\u001b[0m\u001b[0;34m\u001b[0m\u001b[0;34m\u001b[0m\u001b[0m\n"
      ]
     },
     "metadata": {},
     "output_type": "display_data"
    }
   ],
   "source": [
    "%pycat compile_omp_c.sh"
   ]
  },
  {
   "cell_type": "markdown",
   "metadata": {},
   "source": [
    "The following cell will submit the execution of the compilation script using the __q__ script. The __q__ script submits jobs to the DevCloud and retrieves the output. The first arguments to __q__ is the script to execute. The second argument is the properties of the nodes to request. In the following cell, we're requesting one node with the property ppn=2."
   ]
  },
  {
   "cell_type": "code",
   "execution_count": 3,
   "metadata": {},
   "outputs": [
    {
     "name": "stdout",
     "output_type": "stream",
     "text": [
      "Job has been submitted to Intel(R) DevCloud with  nodes and will execute soon.\n",
      "\n",
      " If you do not see result in 60 seconds, please restart the Jupyter kernel:\n",
      " Kernel -> 'Restart Kernel and Clear All Outputs...' and then try again\n",
      "\n",
      "Job ID                    Name             User            Time Use S Queue\n",
      "------------------------- ---------------- --------------- -------- - -----\n",
      "2182726.v-qsvr-1           ...ub-singleuser u184460         00:04:01 R jupyterhub     \n",
      "2183801.v-qsvr-1           compile_omp_c.sh u184460                0 Q batch          \n",
      "\n",
      "Waiting for Output ████████████ Done⬇\n",
      "\n",
      "########################################################################\n",
      "#      Date:           Thu 09 Feb 2023 07:54:39 AM PST\n",
      "#    Job ID:           2183801.v-qsvr-1.aidevcloud\n",
      "#      User:           u184460\n",
      "# Resources:           cput=75:00:00,neednodes=1:ppn=2,nodes=1:ppn=2,walltime=06:00:00\n",
      "########################################################################\n",
      "\n",
      "## u184460 is compiling\n",
      "\n",
      "########################################################################\n",
      "# End of output for job 2183801.v-qsvr-1.aidevcloud\n",
      "# Date: Thu 09 Feb 2023 07:54:48 AM PST\n",
      "########################################################################\n",
      "\n",
      "warning: loop not vectorized: the optimizer was unable to perform the requested transformation; the transformation might be disabled or specified as part of an unsupported transformation ordering [-Wpass-failed=transform-warning]\n",
      "1 warning generated.\n",
      "Job Completed in 12 seconds.\n"
     ]
    }
   ],
   "source": [
    "! chmod 755 q; chmod 755 compile_omp_c.sh; ./q compile_omp_c.sh nodes=1:ppn=2"
   ]
  },
  {
   "cell_type": "markdown",
   "metadata": {},
   "source": [
    "### Execute the Code\n",
    "Next we will execute the compiled binary with the __mpirun__ command to launch the MPI job using 4 processes. Examine the launch script by executing the following cell."
   ]
  },
  {
   "cell_type": "code",
   "execution_count": 4,
   "metadata": {},
   "outputs": [
    {
     "data": {
      "text/plain": [
       "\u001b[0;31m#!/bin/bash\u001b[0m\u001b[0;34m\u001b[0m\n",
       "\u001b[0;34m\u001b[0m\u001b[0msource\u001b[0m \u001b[0;34m/\u001b[0m\u001b[0mopt\u001b[0m\u001b[0;34m/\u001b[0m\u001b[0mintel\u001b[0m\u001b[0;34m/\u001b[0m\u001b[0minteloneapi\u001b[0m\u001b[0;34m/\u001b[0m\u001b[0msetvars\u001b[0m\u001b[0;34m.\u001b[0m\u001b[0msh\u001b[0m \u001b[0;34m>\u001b[0m \u001b[0;34m/\u001b[0m\u001b[0mdev\u001b[0m\u001b[0;34m/\u001b[0m\u001b[0mnull\u001b[0m \u001b[0;36m2\u001b[0m\u001b[0;34m>\u001b[0m\u001b[0;34m&\u001b[0m\u001b[0;36m1\u001b[0m\u001b[0;34m\u001b[0m\n",
       "\u001b[0;34m\u001b[0m\u001b[0;34m%\u001b[0m \u001b[0msetenv\u001b[0m \u001b[0mOMP_TARGET_OFFLOAD\u001b[0m \u001b[0mMANDATORY\u001b[0m\u001b[0;34m\u001b[0m\n",
       "\u001b[0;34m\u001b[0m\u001b[0mexport\u001b[0m \u001b[0mIBOMPTARGET_INFO\u001b[0m\u001b[0;34m=\u001b[0m\u001b[0;36m4\u001b[0m\u001b[0;34m\u001b[0m\n",
       "\u001b[0;34m\u001b[0m\u001b[0;34m/\u001b[0m\u001b[0mbin\u001b[0m\u001b[0;34m/\u001b[0m\u001b[0mecho\u001b[0m \u001b[0;34m\"##\"\u001b[0m\u001b[0;31m \u001b[0m\u001b[0;31m$\u001b[0m\u001b[0;34m(\u001b[0m\u001b[0mwhoami\u001b[0m\u001b[0;34m)\u001b[0m \u001b[0;32mis\u001b[0m \u001b[0mexecuting\u001b[0m\u001b[0;34m\u001b[0m\n",
       "\u001b[0;34m\u001b[0m\u001b[0mmpirun\u001b[0m \u001b[0;34m-\u001b[0m\u001b[0mnp\u001b[0m \u001b[0;36m4\u001b[0m \u001b[0mbin\u001b[0m\u001b[0;34m/\u001b[0m\u001b[0mPSO\u001b[0m\u001b[0;34m.\u001b[0m\u001b[0mx\u001b[0m\u001b[0;34m\u001b[0m\u001b[0;34m\u001b[0m\u001b[0m\n"
      ]
     },
     "metadata": {},
     "output_type": "display_data"
    }
   ],
   "source": [
    "%pycat launch.sh"
   ]
  },
  {
   "cell_type": "markdown",
   "metadata": {},
   "source": [
    "Execute the following cell to run the program on multiple nodes. In the following example, 2 nodes with GPUs are requested."
   ]
  },
  {
   "cell_type": "code",
   "execution_count": 5,
   "metadata": {},
   "outputs": [
    {
     "name": "stdout",
     "output_type": "stream",
     "text": [
      "Job has been submitted to Intel(R) DevCloud with  nodes and will execute soon.\n",
      "\n",
      " If you do not see result in 60 seconds, please restart the Jupyter kernel:\n",
      " Kernel -> 'Restart Kernel and Clear All Outputs...' and then try again\n",
      "\n",
      "Job ID                    Name             User            Time Use S Queue\n",
      "------------------------- ---------------- --------------- -------- - -----\n",
      "2182726.v-qsvr-1           ...ub-singleuser u184460         00:04:01 R jupyterhub     \n",
      "2183802.v-qsvr-1           launch.sh        u184460                0 Q batch          \n",
      "\n",
      "Waiting for Output ███████████████████ Done⬇\n",
      "\n",
      "########################################################################\n",
      "#      Date:           Thu 09 Feb 2023 07:54:51 AM PST\n",
      "#    Job ID:           2183802.v-qsvr-1.aidevcloud\n",
      "#      User:           u184460\n",
      "# Resources:           cput=75:00:00,neednodes=2:gpu:ppn=2,nodes=2:gpu:ppn=2,walltime=06:00:00\n",
      "########################################################################\n",
      "\n",
      "## u184460 is executing\n",
      " runs on: s019-n014, uses device: GPU\n",
      " runs on: s019-n014, uses device: GPU\n",
      " runs on: s019-n011, uses device: GPU\n",
      " runs on: s019-n011, uses device: GPU\n",
      "solution : [2, 5, 8, -3.2425, 2.43, 3]\n",
      "8.91305e-15\n",
      "Time spent: 6.25501 secs\n",
      "\n",
      "########################################################################\n",
      "# End of output for job 2183802.v-qsvr-1.aidevcloud\n",
      "# Date: Thu 09 Feb 2023 07:55:02 AM PST\n",
      "########################################################################\n",
      "\n",
      "/var/spool/torque/mom_priv/jobs/2183802.v-qsvr-1.aidevcloud.SC: line 4: fg: no job control\n",
      "Job Completed in 19 seconds.\n"
     ]
    }
   ],
   "source": [
    "! chmod 755 q; chmod 755 launch.sh; ./q launch.sh nodes=2:gpu:ppn=2"
   ]
  },
  {
   "cell_type": "code",
   "execution_count": null,
   "metadata": {},
   "outputs": [],
   "source": []
  }
 ],
 "metadata": {
  "kernelspec": {
   "display_name": "Python 3 (Intel® oneAPI 2023.0)",
   "language": "python",
   "name": "c009-intel_distribution_of_python_3_oneapi-beta05-python"
  },
  "language_info": {
   "codemirror_mode": {
    "name": "ipython",
    "version": 3
   },
   "file_extension": ".py",
   "mimetype": "text/x-python",
   "name": "python",
   "nbconvert_exporter": "python",
   "pygments_lexer": "ipython3",
   "version": "3.9.15"
  },
  "nbTranslate": {
   "displayLangs": [
    "*"
   ],
   "hotkey": "alt-t",
   "langInMainMenu": true,
   "sourceLang": "en",
   "targetLang": "fr",
   "useGoogleTranslate": true
  },
  "toc": {
   "base_numbering": 1,
   "nav_menu": {
    "height": "55.9896px",
    "width": "160px"
   },
   "number_sections": true,
   "sideBar": true,
   "skip_h1_title": false,
   "title_cell": "Table of Contents",
   "title_sidebar": "Contents",
   "toc_cell": false,
   "toc_position": {},
   "toc_section_display": true,
   "toc_window_display": false
  }
 },
 "nbformat": 4,
 "nbformat_minor": 4
}
