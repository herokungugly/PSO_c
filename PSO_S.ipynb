{
 "cells": [
  {
   "cell_type": "code",
   "execution_count": 1,
   "metadata": {},
   "outputs": [
    {
     "name": "stdout",
     "output_type": "stream",
     "text": [
      "Overwriting lab/PSO.cpp\n"
     ]
    }
   ],
   "source": [
    "%%writefile lab/PSO.cpp\n",
    "\n",
    "#include <mpi.h>\n",
    "#include <iostream>\n",
    "#include <omp.h>\n",
    "#include <cstdlib>\n",
    "#include <time.h>\n",
    "#include <random>\n",
    "#include <thread>\n",
    "#include <math.h>\n",
    "using namespace std;\n",
    "\n",
    "constexpr int kMaster = 0;\n",
    "const int n_dim = 6;\n",
    "const int n_particles = 16000;\n",
    "const double solution_space = 15;\n",
    "const int iters = 5000;\n",
    "const double w = 0.8;\n",
    "const double c1 = 0.8;\n",
    "const double c2 = 0.8;\n",
    "\n",
    "\n",
    "double rand_num(double min = 0.0, double max = 1.0, int seed = 0);\n",
    "double search_parrallel(double** x, double** v, double* pbest, double* gbest, int k);\n",
    "\n",
    "\n",
    "double func(double x[])\n",
    "{\n",
    "    double y;\n",
    "    y = pow((x[0] - 2), 2) + pow((x[1] - 5), 2) + pow((x[2] - 8), 2) + pow((x[3] + 3.2425), 2) + pow((x[4] - 2.43), 2) + pow((x[5] - 3), 2);\n",
    "    return y;\n",
    "}\n",
    "\n",
    "\n",
    "int main(int argc, char* argv[]) {\n",
    "    const clock_t begin_time = clock();\n",
    "    \n",
    "    \n",
    "    //initialization\n",
    "    double** x = new double* [n_particles];\n",
    "    double** v = new double* [n_particles];\n",
    "    for (int i = 0; i < n_particles; i++)\n",
    "    {\n",
    "        x[i] = new double[n_dim];\n",
    "        v[i] = new double[n_dim];\n",
    "        for (int j = 0; j < n_dim; j++)\n",
    "        {\n",
    "            x[i][j] = rand_num(-solution_space, solution_space);\n",
    "            v[i][j] = rand_num();\n",
    "        }\n",
    "    }\n",
    "    double pbest_f = func(x[0]), gbest_f = func(x[0]);\n",
    "    double* pbest = new double[n_dim];\n",
    "    double* gbest = new double[n_dim];\n",
    "\n",
    "    \n",
    "    //start search\n",
    "    for (int k = 1; k <= iters; k++)\n",
    "    {\n",
    "        //particles move and get best of current iteration\n",
    "        gbest_f = search_parrallel(x, v, pbest, gbest, k);\n",
    "        //get best of current iteration\n",
    "        if (1)\n",
    "        {\n",
    "            //get best of all iterations\n",
    "            if (gbest_f < pbest_f)\n",
    "            {\n",
    "                pbest_f = gbest_f;\n",
    "                copy(gbest, gbest + n_dim, pbest);\n",
    "            }\n",
    "        }\n",
    "    }\n",
    "    \n",
    "    \n",
    "    //print answer\n",
    "    if (1)\n",
    "    {\n",
    "        cout << \"solution : [\";\n",
    "        for (int j = 0; j < n_dim; j++)\n",
    "        {\n",
    "            if (j!=0)\n",
    "                cout << \", \";\n",
    "            cout << pbest[j];\n",
    "        }\n",
    "        cout << \"]\" << endl;\n",
    "        cout << pbest_f << endl;\n",
    "        cout << \"Time spent: \" << float( clock () - begin_time ) /  CLOCKS_PER_SEC << \" secs\" << endl;\n",
    "    }\n",
    "\n",
    "    \n",
    "    //free memory\n",
    "    for (int i = 0; i < n_particles; i++)\n",
    "    {\n",
    "        delete[] x[i];\n",
    "        delete[] v[i];\n",
    "    }\n",
    "    delete[] x;\n",
    "    delete[] v;\n",
    "    delete[] pbest;\n",
    "    delete[] gbest;\n",
    "\n",
    "    return 0;\n",
    "}\n",
    "\n",
    "double rand_num(double min, double max, int seed)\n",
    "{\n",
    "    static thread_local mt19937 generator(time(0) + seed);\n",
    "    //static thread_local mt19937 generator;\n",
    "    uniform_real_distribution<double> distribution(min, max);\n",
    "    return distribution(generator);\n",
    "}\n",
    "\n",
    "double search_parrallel(double** x, double** v, double* pbest, double* gbest, int k)\n",
    "{\n",
    "    //particles relocate\n",
    "    double new_gbest_f;\n",
    "    int new_gbest_id;\n",
    "\n",
    "    for (int i = 0; i < n_particles; i++)\n",
    "    {\n",
    "        double r1 = rand_num(), r2 = rand_num();\n",
    "        for (int j = 0; j < n_dim; j++)\n",
    "        {\n",
    "            if (k == 1)\n",
    "            {\n",
    "                //pbest[j] = x[i][j];\n",
    "                //gbest[j] = x[i][j];\n",
    "                v[i][j] = w * v[i][j];\n",
    "            }\n",
    "            else\n",
    "            {\n",
    "                v[i][j] = w * v[i][j] + c1 * r1 * (pbest[j] - x[i][j]) + c2 * r2 * (gbest[j] - x[i][j]);\n",
    "            }\n",
    "            x[i][j] += v[i][j];\n",
    "        }\n",
    "        // calculate gbest in same loop\n",
    "        if ((i == 0) || (func(x[i]) < new_gbest_f))\n",
    "        {\n",
    "            new_gbest_f = func(x[i]);\n",
    "            new_gbest_id = i;\n",
    "        }\n",
    "    }\n",
    "    /*for (int i = 0; i < n_particles; i++)\n",
    "    {\n",
    "        if ((i == 0) || (func(x[i]) < new_gbest_f))\n",
    "        {\n",
    "            new_gbest_f = func(x[i]);\n",
    "            new_gbest_id = i;\n",
    "        }\n",
    "    }*/\n",
    "    copy(x[new_gbest_id], x[new_gbest_id] + n_dim, gbest);\n",
    "    return new_gbest_f;\n",
    "}"
   ]
  },
  {
   "cell_type": "code",
   "execution_count": 2,
   "metadata": {},
   "outputs": [
    {
     "data": {
      "text/plain": [
       "\u001b[0;31m#!/bin/bash\u001b[0m\u001b[0;34m\u001b[0m\n",
       "\u001b[0;34m\u001b[0m\u001b[0msource\u001b[0m \u001b[0;34m/\u001b[0m\u001b[0mopt\u001b[0m\u001b[0;34m/\u001b[0m\u001b[0mintel\u001b[0m\u001b[0;34m/\u001b[0m\u001b[0minteloneapi\u001b[0m\u001b[0;34m/\u001b[0m\u001b[0msetvars\u001b[0m\u001b[0;34m.\u001b[0m\u001b[0msh\u001b[0m \u001b[0;34m>\u001b[0m \u001b[0;34m/\u001b[0m\u001b[0mdev\u001b[0m\u001b[0;34m/\u001b[0m\u001b[0mnull\u001b[0m \u001b[0;36m2\u001b[0m\u001b[0;34m>\u001b[0m\u001b[0;34m&\u001b[0m\u001b[0;36m1\u001b[0m\u001b[0;34m\u001b[0m\n",
       "\u001b[0;34m\u001b[0m\u001b[0;34m/\u001b[0m\u001b[0mbin\u001b[0m\u001b[0;34m/\u001b[0m\u001b[0mecho\u001b[0m \u001b[0;34m\"##\"\u001b[0m\u001b[0;31m \u001b[0m\u001b[0;31m$\u001b[0m\u001b[0;34m(\u001b[0m\u001b[0mwhoami\u001b[0m\u001b[0;34m)\u001b[0m \u001b[0;32mis\u001b[0m \u001b[0mcompiling\u001b[0m\u001b[0;34m\u001b[0m\n",
       "\u001b[0;34m\u001b[0m\u001b[0mmpiicpc\u001b[0m \u001b[0;34m-\u001b[0m\u001b[0mcxx\u001b[0m\u001b[0;34m=\u001b[0m\u001b[0micpx\u001b[0m \u001b[0mlab\u001b[0m\u001b[0;34m/\u001b[0m\u001b[0mPSO\u001b[0m\u001b[0;34m.\u001b[0m\u001b[0mcpp\u001b[0m \u001b[0;34m-\u001b[0m\u001b[0mfiopenmp\u001b[0m \u001b[0;34m-\u001b[0m\u001b[0mfopenmp\u001b[0m\u001b[0;34m-\u001b[0m\u001b[0mtargets\u001b[0m\u001b[0;34m=\u001b[0m\u001b[0mspir64\u001b[0m \u001b[0;34m-\u001b[0m\u001b[0mo\u001b[0m \u001b[0mbin\u001b[0m\u001b[0;34m/\u001b[0m\u001b[0mPSO\u001b[0m\u001b[0;34m.\u001b[0m\u001b[0mx\u001b[0m\u001b[0;34m\u001b[0m\u001b[0;34m\u001b[0m\u001b[0m\n"
      ]
     },
     "metadata": {},
     "output_type": "display_data"
    }
   ],
   "source": [
    "%pycat compile_omp_c.sh"
   ]
  },
  {
   "cell_type": "markdown",
   "metadata": {},
   "source": [
    "The following cell will submit the execution of the compilation script using the __q__ script. The __q__ script submits jobs to the DevCloud and retrieves the output. The first arguments to __q__ is the script to execute. The second argument is the properties of the nodes to request. In the following cell, we're requesting one node with the property ppn=2."
   ]
  },
  {
   "cell_type": "code",
   "execution_count": 3,
   "metadata": {},
   "outputs": [
    {
     "name": "stdout",
     "output_type": "stream",
     "text": [
      "Job has been submitted to Intel(R) DevCloud with  nodes and will execute soon.\n",
      "\n",
      " If you do not see result in 60 seconds, please restart the Jupyter kernel:\n",
      " Kernel -> 'Restart Kernel and Clear All Outputs...' and then try again\n",
      "\n",
      "Job ID                    Name             User            Time Use S Queue\n",
      "------------------------- ---------------- --------------- -------- - -----\n",
      "2182726.v-qsvr-1           ...ub-singleuser u184460         00:04:05 R jupyterhub     \n",
      "2183803.v-qsvr-1           compile_omp_c.sh u184460                0 Q batch          \n",
      "\n",
      "Waiting for Output ███████████████████ Done⬇\n",
      "\n",
      "########################################################################\n",
      "#      Date:           Thu 09 Feb 2023 07:56:10 AM PST\n",
      "#    Job ID:           2183803.v-qsvr-1.aidevcloud\n",
      "#      User:           u184460\n",
      "# Resources:           cput=75:00:00,neednodes=1:ppn=2,nodes=1:ppn=2,walltime=06:00:00\n",
      "########################################################################\n",
      "\n",
      "## u184460 is compiling\n",
      "\n",
      "########################################################################\n",
      "# End of output for job 2183803.v-qsvr-1.aidevcloud\n",
      "# Date: Thu 09 Feb 2023 07:56:19 AM PST\n",
      "########################################################################\n",
      "\n",
      "Job Completed in 19 seconds.\n"
     ]
    }
   ],
   "source": [
    "! chmod 755 q; chmod 755 compile_omp_c.sh; ./q compile_omp_c.sh nodes=1:ppn=2"
   ]
  },
  {
   "cell_type": "markdown",
   "metadata": {},
   "source": [
    "### Execute the Code\n",
    "Next we will execute the compiled binary with the __mpirun__ command to launch the MPI job using 4 processes. Examine the launch script by executing the following cell."
   ]
  },
  {
   "cell_type": "code",
   "execution_count": 4,
   "metadata": {},
   "outputs": [
    {
     "data": {
      "text/plain": [
       "\u001b[0;31m#!/bin/bash\u001b[0m\u001b[0;34m\u001b[0m\n",
       "\u001b[0;34m\u001b[0m\u001b[0msource\u001b[0m \u001b[0;34m/\u001b[0m\u001b[0mopt\u001b[0m\u001b[0;34m/\u001b[0m\u001b[0mintel\u001b[0m\u001b[0;34m/\u001b[0m\u001b[0minteloneapi\u001b[0m\u001b[0;34m/\u001b[0m\u001b[0msetvars\u001b[0m\u001b[0;34m.\u001b[0m\u001b[0msh\u001b[0m \u001b[0;34m>\u001b[0m \u001b[0;34m/\u001b[0m\u001b[0mdev\u001b[0m\u001b[0;34m/\u001b[0m\u001b[0mnull\u001b[0m \u001b[0;36m2\u001b[0m\u001b[0;34m>\u001b[0m\u001b[0;34m&\u001b[0m\u001b[0;36m1\u001b[0m\u001b[0;34m\u001b[0m\n",
       "\u001b[0;34m\u001b[0m\u001b[0;34m%\u001b[0m \u001b[0msetenv\u001b[0m \u001b[0mOMP_TARGET_OFFLOAD\u001b[0m \u001b[0mMANDATORY\u001b[0m\u001b[0;34m\u001b[0m\n",
       "\u001b[0;34m\u001b[0m\u001b[0mexport\u001b[0m \u001b[0mIBOMPTARGET_INFO\u001b[0m\u001b[0;34m=\u001b[0m\u001b[0;36m4\u001b[0m\u001b[0;34m\u001b[0m\n",
       "\u001b[0;34m\u001b[0m\u001b[0;34m/\u001b[0m\u001b[0mbin\u001b[0m\u001b[0;34m/\u001b[0m\u001b[0mecho\u001b[0m \u001b[0;34m\"##\"\u001b[0m\u001b[0;31m \u001b[0m\u001b[0;31m$\u001b[0m\u001b[0;34m(\u001b[0m\u001b[0mwhoami\u001b[0m\u001b[0;34m)\u001b[0m \u001b[0;32mis\u001b[0m \u001b[0mexecuting\u001b[0m\u001b[0;34m\u001b[0m\n",
       "\u001b[0;34m\u001b[0m\u001b[0mmpirun\u001b[0m \u001b[0;34m-\u001b[0m\u001b[0mnp\u001b[0m \u001b[0;36m4\u001b[0m \u001b[0mbin\u001b[0m\u001b[0;34m/\u001b[0m\u001b[0mPSO\u001b[0m\u001b[0;34m.\u001b[0m\u001b[0mx\u001b[0m\u001b[0;34m\u001b[0m\u001b[0;34m\u001b[0m\u001b[0m\n"
      ]
     },
     "metadata": {},
     "output_type": "display_data"
    }
   ],
   "source": [
    "%pycat launch.sh"
   ]
  },
  {
   "cell_type": "markdown",
   "metadata": {},
   "source": [
    "Execute the following cell to run the program on multiple nodes. In the following example, 2 nodes with GPUs are requested."
   ]
  },
  {
   "cell_type": "code",
   "execution_count": 5,
   "metadata": {},
   "outputs": [
    {
     "name": "stdout",
     "output_type": "stream",
     "text": [
      "Job has been submitted to Intel(R) DevCloud with  nodes and will execute soon.\n",
      "\n",
      " If you do not see result in 60 seconds, please restart the Jupyter kernel:\n",
      " Kernel -> 'Restart Kernel and Clear All Outputs...' and then try again\n",
      "\n",
      "Job ID                    Name             User            Time Use S Queue\n",
      "------------------------- ---------------- --------------- -------- - -----\n",
      "2182726.v-qsvr-1           ...ub-singleuser u184460         00:04:05 R jupyterhub     \n",
      "2183804.v-qsvr-1           launch.sh        u184460                0 Q batch          \n",
      "\n",
      "Waiting for Output █████████████████████████ Done⬇\n",
      "\n",
      "########################################################################\n",
      "#      Date:           Thu 09 Feb 2023 07:56:29 AM PST\n",
      "#    Job ID:           2183804.v-qsvr-1.aidevcloud\n",
      "#      User:           u184460\n",
      "# Resources:           cput=75:00:00,neednodes=2:gpu:ppn=2,nodes=2:gpu:ppn=2,walltime=06:00:00\n",
      "########################################################################\n",
      "\n",
      "## u184460 is executing\n",
      "solution : [2, 5, 8, -3.2425, 2.43, 3]\n",
      "0\n",
      "Time spent: 10.0863 secs\n",
      "solution : [2, 5, 8, -3.2425, 2.43, 3]\n",
      "0\n",
      "Time spent: 10.0725 secs\n",
      "solution : [2, 5, 8, -3.2425, 2.43, 3]\n",
      "0\n",
      "Time spent: 10.275 secs\n",
      "solution : [2, 5, 8, -3.2425, 2.43, 3]\n",
      "0\n",
      "Time spent: 10.1184 secs\n",
      "\n",
      "########################################################################\n",
      "# End of output for job 2183804.v-qsvr-1.aidevcloud\n",
      "# Date: Thu 09 Feb 2023 07:56:43 AM PST\n",
      "########################################################################\n",
      "\n",
      "/var/spool/torque/mom_priv/jobs/2183804.v-qsvr-1.aidevcloud.SC: line 4: fg: no job control\n",
      "Job Completed in 25 seconds.\n"
     ]
    }
   ],
   "source": [
    "! chmod 755 q; chmod 755 launch.sh; ./q launch.sh nodes=2:gpu:ppn=2"
   ]
  },
  {
   "cell_type": "code",
   "execution_count": null,
   "metadata": {},
   "outputs": [],
   "source": []
  }
 ],
 "metadata": {
  "kernelspec": {
   "display_name": "Python 3 (Intel® oneAPI 2023.0)",
   "language": "python",
   "name": "c009-intel_distribution_of_python_3_oneapi-beta05-python"
  },
  "language_info": {
   "codemirror_mode": {
    "name": "ipython",
    "version": 3
   },
   "file_extension": ".py",
   "mimetype": "text/x-python",
   "name": "python",
   "nbconvert_exporter": "python",
   "pygments_lexer": "ipython3",
   "version": "3.9.15"
  },
  "nbTranslate": {
   "displayLangs": [
    "*"
   ],
   "hotkey": "alt-t",
   "langInMainMenu": true,
   "sourceLang": "en",
   "targetLang": "fr",
   "useGoogleTranslate": true
  },
  "toc": {
   "base_numbering": 1,
   "nav_menu": {
    "height": "55.9896px",
    "width": "160px"
   },
   "number_sections": true,
   "sideBar": true,
   "skip_h1_title": false,
   "title_cell": "Table of Contents",
   "title_sidebar": "Contents",
   "toc_cell": false,
   "toc_position": {},
   "toc_section_display": true,
   "toc_window_display": false
  }
 },
 "nbformat": 4,
 "nbformat_minor": 4
}
